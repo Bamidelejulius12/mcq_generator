{
 "cells": [
  {
   "cell_type": "code",
   "execution_count": 9,
   "id": "64c78bce",
   "metadata": {},
   "outputs": [],
   "source": [
    "import os\n",
    "import json\n",
    "import pandas as pd\n",
    "import traceback\n",
    "from dotenv import load_dotenv"
   ]
  },
  {
   "cell_type": "code",
   "execution_count": 5,
   "id": "f54a7da3",
   "metadata": {},
   "outputs": [],
   "source": [
    "from langchain.chat_models import ChatOpenAI"
   ]
  },
  {
   "cell_type": "code",
   "execution_count": 14,
   "id": "dbdee344",
   "metadata": {},
   "outputs": [],
   "source": [
    "load_dotenv()\n",
    "Key = os.getenv(\"API_KEY\")\n",
    "BASE_URL = os.getenv(\"BASE_URL\")"
   ]
  },
  {
   "cell_type": "code",
   "execution_count": 15,
   "id": "52e11f6a",
   "metadata": {},
   "outputs": [
    {
     "name": "stdout",
     "output_type": "stream",
     "text": [
      "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\n"
     ]
    }
   ],
   "source": [
    "print(Key)"
   ]
  },
  {
   "cell_type": "code",
   "execution_count": 17,
   "id": "006838bf",
   "metadata": {},
   "outputs": [],
   "source": [
    "llm = ChatOpenAI(api_key = Key, model_name = \"openai/gpt-3.5-turbo-0613\", base_url = BASE_URL, temperature = 0.5)"
   ]
  },
  {
   "cell_type": "code",
   "execution_count": null,
   "id": "af2c3265",
   "metadata": {},
   "outputs": [],
   "source": []
  }
 ],
 "metadata": {
  "kernelspec": {
   "display_name": "Python 3",
   "language": "python",
   "name": "python3"
  },
  "language_info": {
   "codemirror_mode": {
    "name": "ipython",
    "version": 3
   },
   "file_extension": ".py",
   "mimetype": "text/x-python",
   "name": "python",
   "nbconvert_exporter": "python",
   "pygments_lexer": "ipython3",
   "version": "3.11.5"
  }
 },
 "nbformat": 4,
 "nbformat_minor": 5
}
