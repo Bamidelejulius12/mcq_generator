{
 "cells": [
  {
   "cell_type": "code",
   "execution_count": 7,
   "id": "64c78bce",
   "metadata": {},
   "outputs": [],
   "source": [
    "import os\n",
    "import json\n",
    "import pandas as pd\n",
    "import traceback\n",
    "from dotenv import load_dotenv"
   ]
  },
  {
   "cell_type": "code",
   "execution_count": 8,
   "id": "f54a7da3",
   "metadata": {},
   "outputs": [],
   "source": [
    "from langchain_community.chat_models import ChatOpenAI"
   ]
  },
  {
   "cell_type": "code",
   "execution_count": 9,
   "id": "dbdee344",
   "metadata": {},
   "outputs": [],
   "source": [
    "load_dotenv()\n",
    "Key = os.getenv(\"API_KEY\")\n",
    "BASE_URL = os.getenv(\"BASE_URL\")"
   ]
  },
  {
   "cell_type": "code",
   "execution_count": 10,
   "id": "006838bf",
   "metadata": {},
   "outputs": [],
   "source": [
    "llm = ChatOpenAI(api_key = Key, model_name = \"openai/gpt-3.5-turbo-0613\", base_url = BASE_URL, temperature = 0.5)"
   ]
  },
  {
   "cell_type": "code",
   "execution_count": 11,
   "id": "af2c3265",
   "metadata": {},
   "outputs": [
    {
     "data": {
      "text/plain": [
       "ChatOpenAI(client=<openai.resources.chat.completions.completions.Completions object at 0x0000021A334BAA90>, async_client=<openai.resources.chat.completions.completions.AsyncCompletions object at 0x0000021A334BB650>, model_name='openai/gpt-3.5-turbo-0613', temperature=0.5, model_kwargs={}, openai_api_key='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', openai_api_base='https://openrouter.ai/api/v1', openai_proxy='')"
      ]
     },
     "execution_count": 11,
     "metadata": {},
     "output_type": "execute_result"
    }
   ],
   "source": [
    "llm"
   ]
  },
  {
   "cell_type": "markdown",
   "id": "b662835e",
   "metadata": {},
   "source": []
  },
  {
   "cell_type": "code",
   "execution_count": null,
   "id": "80ba75d2",
   "metadata": {},
   "outputs": [],
   "source": [
    "from openai import OpenAI\n",
    "import langchain\n",
    "# from langchain.llms import OpenAI\n",
    "from langchain.agents import AgentType\n",
    "from langchain.agents import load_tools\n",
    "from langchain.agents import initialize_agent\n",
    "from langchain_community.chat_models import ChatOpenAI\n",
    "from langchain.chains import LLMChain\n",
    "from langchain.chains import SimpleSequentialChain, SequentialChain\n",
    "from langchain.callbacks import get_openai_callback\n",
    "import PyPDF2"
   ]
  },
  {
   "cell_type": "code",
   "execution_count": 13,
   "id": "ac560308",
   "metadata": {},
   "outputs": [],
   "source": [
    "RESPONSE_JSON = {\n",
    "    \"1.\":{\n",
    "        \"mcq\": \"multiple choice question\",\n",
    "        \"options\": {\n",
    "            \"a\": \"choice here\",\n",
    "            \"b\": \"choice here\",\n",
    "            \"c\": \"choice here\",\n",
    "            \"d\": \"choice here\"\n",
    "        },\n",
    "        \"correct\": \"correct answer\",\n",
    "    },\n",
    "    \"2\":{\n",
    "        \"mcq\": \"multiple choice question\",\n",
    "        \"options\": {\n",
    "            \"a\": \"choice here\",\n",
    "            \"b\": \"choice here\",\n",
    "            \"c\": \"choice here\",\n",
    "            \"d\": \"choice here\"\n",
    "        },\n",
    "        \"correct\": \"correct answer\",\n",
    "    },\n",
    "    \"3\":{\n",
    "        \"mcq\": \"multiple choice question\",\n",
    "        \"options\": {\n",
    "            \"a\": \"choice here\",\n",
    "            \"b\": \"choice here\",\n",
    "            \"c\": \"choice here\",\n",
    "            \"d\": \"choice here\",\n",
    "        },\n",
    "        \"correct\": \"correct answer\"\n",
    "    },\n",
    "    \"4\":{\n",
    "        \"mcq\": \"multiple choice question\",\n",
    "        \"options\": {\n",
    "            \"a\": \"choice here\",\n",
    "            \"b\": \"choice here\",\n",
    "            \"c\": \"choice here\",\n",
    "            \"d\": \"choice here\",\n",
    "        },\n",
    "        \"correct\": \"correct answer\"\n",
    "    },\n",
    "    \"5\":{\n",
    "        \"mcq\": \"multiple choice question\",\n",
    "        \"options\":{\n",
    "            \"a\": \"choice here\",\n",
    "            \"b\": \"choice here\",\n",
    "            \"c\": \"choice here\",\n",
    "            \"d\": \"choice here\",\n",
    "        },\n",
    "        \"correct\": \"correct answer\",\n",
    "    }\n",
    "}"
   ]
  },
  {
   "cell_type": "markdown",
   "id": "887b2bc7",
   "metadata": {},
   "source": [
    "### MCQ Generator template"
   ]
  },
  {
   "cell_type": "code",
   "execution_count": 14,
   "id": "837156b3",
   "metadata": {},
   "outputs": [],
   "source": [
    "TEMPLATE = \"\"\"\n",
    "Text: {text}\n",
    "You are an expert MCQ maker. Given the above text, it is your job to \\\n",
    "create a quiz of {number} multiple choice question for {subject} student in {tone} tone.\n",
    "Make sure the questions are not repeated and check all the questions to be conforiming the text as well\n",
    "Make sure to format your response like RESPONSE_JSON below and use it as a guide.\\\n",
    "Ensure to make {number} MCQs\n",
    "### RESPONSE_JSON\n",
    "{response_json}\n",
    "\"\"\""
   ]
  },
  {
   "cell_type": "code",
   "execution_count": 15,
   "id": "1f0587fc",
   "metadata": {},
   "outputs": [],
   "source": [
    "from langchain.prompts import PromptTemplate\n",
    "\n",
    "quiz_generation_prompt = PromptTemplate(\n",
    "    input_variable = [\"text\", \"number\", \"subject\", \"tone\", \"response_json\"],\n",
    "    template = TEMPLATE\n",
    ")"
   ]
  },
  {
   "cell_type": "code",
   "execution_count": 16,
   "id": "845de421",
   "metadata": {},
   "outputs": [
    {
     "name": "stderr",
     "output_type": "stream",
     "text": [
      "C:\\Users\\HP\\AppData\\Local\\Temp\\ipykernel_16088\\717102180.py:1: LangChainDeprecationWarning: The class `LLMChain` was deprecated in LangChain 0.1.17 and will be removed in 1.0. Use :meth:`~RunnableSequence, e.g., `prompt | llm`` instead.\n",
      "  quiz_chain = LLMChain(llm = llm, prompt = quiz_generation_prompt, output_key=\"quiz\", verbose = True)\n"
     ]
    }
   ],
   "source": [
    "quiz_chain = LLMChain(llm = llm, prompt = quiz_generation_prompt, output_key=\"quiz\", verbose = True)"
   ]
  },
  {
   "cell_type": "markdown",
   "id": "f07267cc",
   "metadata": {},
   "source": [
    "### Correct answer Template"
   ]
  },
  {
   "cell_type": "code",
   "execution_count": 17,
   "id": "4293f1fb",
   "metadata": {},
   "outputs": [],
   "source": [
    "Template2 = \"\"\"\n",
    "You are an expert english grammarian and writer. Given a multiple Choice Quiz for {subject} students.\\\n",
    "You need to evaluate the complexity of the question and give a complete analysis of the quiz. Only use at max 50 words for the complexity.\n",
    "if the quiz is not at per with the cognitive and analytical abilities of the students.\\\n",
    "update the quiz question which need to be changed and change the tone such that it perfectly fit the student ability\n",
    "Quiz_MCQs:\n",
    "{quiz}\n",
    "\n",
    "Check from an expert English Writer of the above quiz:\n",
    "\"\"\""
   ]
  },
  {
   "cell_type": "code",
   "execution_count": 18,
   "id": "b33b8baa",
   "metadata": {},
   "outputs": [],
   "source": [
    "quiz_evaluation_prompt = PromptTemplate(input_variables=[\"subject\", \"quiz\"], template=TEMPLATE)"
   ]
  },
  {
   "cell_type": "code",
   "execution_count": 19,
   "id": "182eb6ea",
   "metadata": {},
   "outputs": [],
   "source": [
    "review_chain = LLMChain(llm = llm, prompt = quiz_evaluation_prompt, output_key = \"review\", verbose=True)"
   ]
  },
  {
   "cell_type": "code",
   "execution_count": 20,
   "id": "d14cdbcc",
   "metadata": {},
   "outputs": [],
   "source": [
    "generate_evaluate_chain = SequentialChain(chains = [quiz_chain, review_chain],\n",
    "                                          input_variables = [\"text\", \"number\", \"subject\", \"tone\", \"response_json\"],\n",
    "                                          output_variables = [\"quiz\", \"review\"],\n",
    "                                          verbose = True)"
   ]
  },
  {
   "cell_type": "markdown",
   "id": "6cfc0902",
   "metadata": {},
   "source": [
    "### Read data fron data.txt"
   ]
  },
  {
   "cell_type": "code",
   "execution_count": 21,
   "id": "1962c72e",
   "metadata": {},
   "outputs": [],
   "source": [
    "file_path = \"C:/Users/HP/Desktop/mcq_generator/data.txt\""
   ]
  },
  {
   "cell_type": "code",
   "execution_count": 22,
   "id": "96960b32",
   "metadata": {},
   "outputs": [
    {
     "data": {
      "text/plain": [
       "'C:/Users/HP/Desktop/mcq_generator/data.txt'"
      ]
     },
     "execution_count": 22,
     "metadata": {},
     "output_type": "execute_result"
    }
   ],
   "source": [
    "file_path"
   ]
  },
  {
   "cell_type": "code",
   "execution_count": 23,
   "id": "016ad260",
   "metadata": {},
   "outputs": [],
   "source": [
    "with open(file_path, 'r') as file:\n",
    "    TEXT = file.read()"
   ]
  },
  {
   "cell_type": "code",
   "execution_count": 24,
   "id": "7ddd9a28",
   "metadata": {},
   "outputs": [
    {
     "name": "stdout",
     "output_type": "stream",
     "text": [
      "The term machine learning was coined in 1959 by Arthur Samuel, an IBM employee and pioneer in the field of computer gaming and artificial intelligence.[8][9] The synonym self-teaching computers was also used in this time period.[10][11]\n",
      "\n",
      "The earliest machine learning program was introduced in the 1950s when Arthur Samuel invented a computer program that calculated the winning chance in checkers for each side, but the history of machine learning roots back to decades of human desire and effort to study human cognitive processes.[12] In 1949, Canadian psychologist Donald Hebb published the book The Organization of Behavior, in which he introduced a theoretical neural structure formed by certain interactions among nerve cells.[13] Hebb's model of neurons interacting with one another set a groundwork for how AIs and machine learning algorithms work under nodes, or artificial neurons used by computers to communicate data.[12] Other researchers who have studied human cognitive systems contributed to the modern machine learning technologies as well, including logician Walter Pitts and Warren McCulloch, who proposed the early mathematical models of neural networks to come up with algorithms that mirror human thought processes.[12]\n",
      "\n",
      "By the early 1960s, an experimental \"learning machine\" with punched tape memory, called Cybertron, had been developed by Raytheon Company to analyse sonar signals, electrocardiograms, and speech patterns using rudimentary reinforcement learning. It was repetitively \"trained\" by a human operator/teacher to recognise patterns and equipped with a \"goof\" button to cause it to reevaluate incorrect decisions.[14] A representative book on research into machine learning during the 1960s was Nilsson's book on Learning Machines, dealing mostly with machine learning for pattern classification.[15] Interest related to pattern recognition continued into the 1970s, as described by Duda and Hart in 1973.[16] In 1981 a report was given on using teaching strategies so that an artificial neural network learns to recognise 40 characters (26 letters, 10 digits, and 4 special symbols) from a computer terminal.[17]\n",
      "\n",
      "Tom M. Mitchell provided a widely quoted, more formal definition of the algorithms studied in the machine learning field: \"A computer program is said to learn from experience E with respect to some class of tasks T and performance measure P if its performance at tasks in T, as measured by P, improves with experience E.\"[18] This definition of the tasks in which machine learning is concerned offers a fundamentally operational definition rather than defining the field in cognitive terms. This follows Alan Turing's proposal in his paper \"Computing Machinery and Intelligence\", in which the question \"Can machines think?\" is replaced with the question \"Can machines do what we (as thinking entities) can do?\".[19]\n",
      "\n",
      "Modern-day machine learning has two objectives. One is to classify data based on models which have been developed; the other purpose is to make predictions for future outcomes based on these models. A hypothetical algorithm specific to classifying data may use computer vision of moles coupled with supervised learning in order to train it to classify the cancerous moles. A machine learning algorithm for stock trading may inform the trader of future potential predictions.[20]\n"
     ]
    }
   ],
   "source": [
    "print(TEXT)"
   ]
  },
  {
   "cell_type": "code",
   "execution_count": 25,
   "id": "5e25d56b",
   "metadata": {},
   "outputs": [
    {
     "data": {
      "text/plain": [
       "'{\"1.\": {\"mcq\": \"multiple choice question\", \"options\": {\"a\": \"choice here\", \"b\": \"choice here\", \"c\": \"choice here\", \"d\": \"choice here\"}, \"correct\": \"correct answer\"}, \"2\": {\"mcq\": \"multiple choice question\", \"options\": {\"a\": \"choice here\", \"b\": \"choice here\", \"c\": \"choice here\", \"d\": \"choice here\"}, \"correct\": \"correct answer\"}, \"3\": {\"mcq\": \"multiple choice question\", \"options\": {\"a\": \"choice here\", \"b\": \"choice here\", \"c\": \"choice here\", \"d\": \"choice here\"}, \"correct\": \"correct answer\"}, \"4\": {\"mcq\": \"multiple choice question\", \"options\": {\"a\": \"choice here\", \"b\": \"choice here\", \"c\": \"choice here\", \"d\": \"choice here\"}, \"correct\": \"correct answer\"}, \"5\": {\"mcq\": \"multiple choice question\", \"options\": {\"a\": \"choice here\", \"b\": \"choice here\", \"c\": \"choice here\", \"d\": \"choice here\"}, \"correct\": \"correct answer\"}}'"
      ]
     },
     "execution_count": 25,
     "metadata": {},
     "output_type": "execute_result"
    }
   ],
   "source": [
    "# Convert the dict file to json-formatted string\n",
    "json.dumps(RESPONSE_JSON)"
   ]
  },
  {
   "cell_type": "code",
   "execution_count": 26,
   "id": "60675d42",
   "metadata": {},
   "outputs": [],
   "source": [
    "NUMBER = 5,\n",
    "SUBJECT = \"data science\"\n",
    "TONE = \"simple\""
   ]
  },
  {
   "cell_type": "code",
   "execution_count": 27,
   "id": "35399a75",
   "metadata": {},
   "outputs": [
    {
     "name": "stdout",
     "output_type": "stream",
     "text": [
      "\n",
      "\n",
      "\u001b[1m> Entering new SequentialChain chain...\u001b[0m\n",
      "\n",
      "\n",
      "\u001b[1m> Entering new LLMChain chain...\u001b[0m\n",
      "Prompt after formatting:\n",
      "\u001b[32;1m\u001b[1;3m\n",
      "Text: The term machine learning was coined in 1959 by Arthur Samuel, an IBM employee and pioneer in the field of computer gaming and artificial intelligence.[8][9] The synonym self-teaching computers was also used in this time period.[10][11]\n",
      "\n",
      "The earliest machine learning program was introduced in the 1950s when Arthur Samuel invented a computer program that calculated the winning chance in checkers for each side, but the history of machine learning roots back to decades of human desire and effort to study human cognitive processes.[12] In 1949, Canadian psychologist Donald Hebb published the book The Organization of Behavior, in which he introduced a theoretical neural structure formed by certain interactions among nerve cells.[13] Hebb's model of neurons interacting with one another set a groundwork for how AIs and machine learning algorithms work under nodes, or artificial neurons used by computers to communicate data.[12] Other researchers who have studied human cognitive systems contributed to the modern machine learning technologies as well, including logician Walter Pitts and Warren McCulloch, who proposed the early mathematical models of neural networks to come up with algorithms that mirror human thought processes.[12]\n",
      "\n",
      "By the early 1960s, an experimental \"learning machine\" with punched tape memory, called Cybertron, had been developed by Raytheon Company to analyse sonar signals, electrocardiograms, and speech patterns using rudimentary reinforcement learning. It was repetitively \"trained\" by a human operator/teacher to recognise patterns and equipped with a \"goof\" button to cause it to reevaluate incorrect decisions.[14] A representative book on research into machine learning during the 1960s was Nilsson's book on Learning Machines, dealing mostly with machine learning for pattern classification.[15] Interest related to pattern recognition continued into the 1970s, as described by Duda and Hart in 1973.[16] In 1981 a report was given on using teaching strategies so that an artificial neural network learns to recognise 40 characters (26 letters, 10 digits, and 4 special symbols) from a computer terminal.[17]\n",
      "\n",
      "Tom M. Mitchell provided a widely quoted, more formal definition of the algorithms studied in the machine learning field: \"A computer program is said to learn from experience E with respect to some class of tasks T and performance measure P if its performance at tasks in T, as measured by P, improves with experience E.\"[18] This definition of the tasks in which machine learning is concerned offers a fundamentally operational definition rather than defining the field in cognitive terms. This follows Alan Turing's proposal in his paper \"Computing Machinery and Intelligence\", in which the question \"Can machines think?\" is replaced with the question \"Can machines do what we (as thinking entities) can do?\".[19]\n",
      "\n",
      "Modern-day machine learning has two objectives. One is to classify data based on models which have been developed; the other purpose is to make predictions for future outcomes based on these models. A hypothetical algorithm specific to classifying data may use computer vision of moles coupled with supervised learning in order to train it to classify the cancerous moles. A machine learning algorithm for stock trading may inform the trader of future potential predictions.[20]\n",
      "You are an expert MCQ maker. Given the above text, it is your job to create a quiz of (5,) multiple choice question for data science student in simple tone.\n",
      "Make sure the questions are not repeated and check all the questions to be conforiming the text as well\n",
      "Make sure to format your response like RESPONSE_JSON below and use it as a guide.Ensure to make (5,) MCQs\n",
      "### RESPONSE_JSON\n",
      "{\"1.\": {\"mcq\": \"multiple choice question\", \"options\": {\"a\": \"choice here\", \"b\": \"choice here\", \"c\": \"choice here\", \"d\": \"choice here\"}, \"correct\": \"correct answer\"}, \"2\": {\"mcq\": \"multiple choice question\", \"options\": {\"a\": \"choice here\", \"b\": \"choice here\", \"c\": \"choice here\", \"d\": \"choice here\"}, \"correct\": \"correct answer\"}, \"3\": {\"mcq\": \"multiple choice question\", \"options\": {\"a\": \"choice here\", \"b\": \"choice here\", \"c\": \"choice here\", \"d\": \"choice here\"}, \"correct\": \"correct answer\"}, \"4\": {\"mcq\": \"multiple choice question\", \"options\": {\"a\": \"choice here\", \"b\": \"choice here\", \"c\": \"choice here\", \"d\": \"choice here\"}, \"correct\": \"correct answer\"}, \"5\": {\"mcq\": \"multiple choice question\", \"options\": {\"a\": \"choice here\", \"b\": \"choice here\", \"c\": \"choice here\", \"d\": \"choice here\"}, \"correct\": \"correct answer\"}}\n",
      "\u001b[0m\n"
     ]
    },
    {
     "name": "stderr",
     "output_type": "stream",
     "text": [
      "C:\\Users\\HP\\AppData\\Local\\Temp\\ipykernel_16088\\2931217859.py:5: LangChainDeprecationWarning: The method `Chain.__call__` was deprecated in langchain 0.1.0 and will be removed in 1.0. Use :meth:`~invoke` instead.\n",
      "  response = generate_evaluate_chain(\n"
     ]
    },
    {
     "name": "stdout",
     "output_type": "stream",
     "text": [
      "\n",
      "\u001b[1m> Finished chain.\u001b[0m\n",
      "\n",
      "\n",
      "\u001b[1m> Entering new LLMChain chain...\u001b[0m\n",
      "Prompt after formatting:\n",
      "\u001b[32;1m\u001b[1;3m\n",
      "Text: The term machine learning was coined in 1959 by Arthur Samuel, an IBM employee and pioneer in the field of computer gaming and artificial intelligence.[8][9] The synonym self-teaching computers was also used in this time period.[10][11]\n",
      "\n",
      "The earliest machine learning program was introduced in the 1950s when Arthur Samuel invented a computer program that calculated the winning chance in checkers for each side, but the history of machine learning roots back to decades of human desire and effort to study human cognitive processes.[12] In 1949, Canadian psychologist Donald Hebb published the book The Organization of Behavior, in which he introduced a theoretical neural structure formed by certain interactions among nerve cells.[13] Hebb's model of neurons interacting with one another set a groundwork for how AIs and machine learning algorithms work under nodes, or artificial neurons used by computers to communicate data.[12] Other researchers who have studied human cognitive systems contributed to the modern machine learning technologies as well, including logician Walter Pitts and Warren McCulloch, who proposed the early mathematical models of neural networks to come up with algorithms that mirror human thought processes.[12]\n",
      "\n",
      "By the early 1960s, an experimental \"learning machine\" with punched tape memory, called Cybertron, had been developed by Raytheon Company to analyse sonar signals, electrocardiograms, and speech patterns using rudimentary reinforcement learning. It was repetitively \"trained\" by a human operator/teacher to recognise patterns and equipped with a \"goof\" button to cause it to reevaluate incorrect decisions.[14] A representative book on research into machine learning during the 1960s was Nilsson's book on Learning Machines, dealing mostly with machine learning for pattern classification.[15] Interest related to pattern recognition continued into the 1970s, as described by Duda and Hart in 1973.[16] In 1981 a report was given on using teaching strategies so that an artificial neural network learns to recognise 40 characters (26 letters, 10 digits, and 4 special symbols) from a computer terminal.[17]\n",
      "\n",
      "Tom M. Mitchell provided a widely quoted, more formal definition of the algorithms studied in the machine learning field: \"A computer program is said to learn from experience E with respect to some class of tasks T and performance measure P if its performance at tasks in T, as measured by P, improves with experience E.\"[18] This definition of the tasks in which machine learning is concerned offers a fundamentally operational definition rather than defining the field in cognitive terms. This follows Alan Turing's proposal in his paper \"Computing Machinery and Intelligence\", in which the question \"Can machines think?\" is replaced with the question \"Can machines do what we (as thinking entities) can do?\".[19]\n",
      "\n",
      "Modern-day machine learning has two objectives. One is to classify data based on models which have been developed; the other purpose is to make predictions for future outcomes based on these models. A hypothetical algorithm specific to classifying data may use computer vision of moles coupled with supervised learning in order to train it to classify the cancerous moles. A machine learning algorithm for stock trading may inform the trader of future potential predictions.[20]\n",
      "You are an expert MCQ maker. Given the above text, it is your job to create a quiz of (5,) multiple choice question for data science student in simple tone.\n",
      "Make sure the questions are not repeated and check all the questions to be conforiming the text as well\n",
      "Make sure to format your response like RESPONSE_JSON below and use it as a guide.Ensure to make (5,) MCQs\n",
      "### RESPONSE_JSON\n",
      "{\"1.\": {\"mcq\": \"multiple choice question\", \"options\": {\"a\": \"choice here\", \"b\": \"choice here\", \"c\": \"choice here\", \"d\": \"choice here\"}, \"correct\": \"correct answer\"}, \"2\": {\"mcq\": \"multiple choice question\", \"options\": {\"a\": \"choice here\", \"b\": \"choice here\", \"c\": \"choice here\", \"d\": \"choice here\"}, \"correct\": \"correct answer\"}, \"3\": {\"mcq\": \"multiple choice question\", \"options\": {\"a\": \"choice here\", \"b\": \"choice here\", \"c\": \"choice here\", \"d\": \"choice here\"}, \"correct\": \"correct answer\"}, \"4\": {\"mcq\": \"multiple choice question\", \"options\": {\"a\": \"choice here\", \"b\": \"choice here\", \"c\": \"choice here\", \"d\": \"choice here\"}, \"correct\": \"correct answer\"}, \"5\": {\"mcq\": \"multiple choice question\", \"options\": {\"a\": \"choice here\", \"b\": \"choice here\", \"c\": \"choice here\", \"d\": \"choice here\"}, \"correct\": \"correct answer\"}}\n",
      "\u001b[0m\n",
      "\n",
      "\u001b[1m> Finished chain.\u001b[0m\n",
      "\n",
      "\u001b[1m> Finished chain.\u001b[0m\n"
     ]
    }
   ],
   "source": [
    "# https://python.langchain.com/docs/modules/model_io/llms/token_usuage_tracking\n",
    "\n",
    "# how to setup token usuage Tracking in Langchain\n",
    "with get_openai_callback() as cb:\n",
    "    response = generate_evaluate_chain(\n",
    "        {\n",
    "            \"text\": TEXT,\n",
    "            \"number\": NUMBER,\n",
    "            \"subject\": SUBJECT,\n",
    "            \"tone\": TONE,\n",
    "            \"response_json\": json.dumps(RESPONSE_JSON)\n",
    "        }\n",
    "    )"
   ]
  },
  {
   "cell_type": "code",
   "execution_count": 28,
   "id": "fe0330f5",
   "metadata": {},
   "outputs": [
    {
     "name": "stdout",
     "output_type": "stream",
     "text": [
      "Total Token: 2768\n",
      "prompt token: 1996\n",
      "Completion Token: 772\n",
      "Total Cost: 0.0\n"
     ]
    }
   ],
   "source": [
    "print(f\"Total Token: {cb.total_tokens}\")\n",
    "print(f\"prompt token: {cb.prompt_tokens}\")\n",
    "print(f\"Completion Token: {cb.completion_tokens}\")\n",
    "print(f\"Total Cost: {cb.total_cost}\")"
   ]
  },
  {
   "cell_type": "code",
   "execution_count": 29,
   "id": "78915f94",
   "metadata": {},
   "outputs": [
    {
     "data": {
      "text/plain": [
       "{'text': 'The term machine learning was coined in 1959 by Arthur Samuel, an IBM employee and pioneer in the field of computer gaming and artificial intelligence.[8][9] The synonym self-teaching computers was also used in this time period.[10][11]\\n\\nThe earliest machine learning program was introduced in the 1950s when Arthur Samuel invented a computer program that calculated the winning chance in checkers for each side, but the history of machine learning roots back to decades of human desire and effort to study human cognitive processes.[12] In 1949, Canadian psychologist Donald Hebb published the book The Organization of Behavior, in which he introduced a theoretical neural structure formed by certain interactions among nerve cells.[13] Hebb\\'s model of neurons interacting with one another set a groundwork for how AIs and machine learning algorithms work under nodes, or artificial neurons used by computers to communicate data.[12] Other researchers who have studied human cognitive systems contributed to the modern machine learning technologies as well, including logician Walter Pitts and Warren McCulloch, who proposed the early mathematical models of neural networks to come up with algorithms that mirror human thought processes.[12]\\n\\nBy the early 1960s, an experimental \"learning machine\" with punched tape memory, called Cybertron, had been developed by Raytheon Company to analyse sonar signals, electrocardiograms, and speech patterns using rudimentary reinforcement learning. It was repetitively \"trained\" by a human operator/teacher to recognise patterns and equipped with a \"goof\" button to cause it to reevaluate incorrect decisions.[14] A representative book on research into machine learning during the 1960s was Nilsson\\'s book on Learning Machines, dealing mostly with machine learning for pattern classification.[15] Interest related to pattern recognition continued into the 1970s, as described by Duda and Hart in 1973.[16] In 1981 a report was given on using teaching strategies so that an artificial neural network learns to recognise 40 characters (26 letters, 10 digits, and 4 special symbols) from a computer terminal.[17]\\n\\nTom M. Mitchell provided a widely quoted, more formal definition of the algorithms studied in the machine learning field: \"A computer program is said to learn from experience E with respect to some class of tasks T and performance measure P if its performance at tasks in T, as measured by P, improves with experience E.\"[18] This definition of the tasks in which machine learning is concerned offers a fundamentally operational definition rather than defining the field in cognitive terms. This follows Alan Turing\\'s proposal in his paper \"Computing Machinery and Intelligence\", in which the question \"Can machines think?\" is replaced with the question \"Can machines do what we (as thinking entities) can do?\".[19]\\n\\nModern-day machine learning has two objectives. One is to classify data based on models which have been developed; the other purpose is to make predictions for future outcomes based on these models. A hypothetical algorithm specific to classifying data may use computer vision of moles coupled with supervised learning in order to train it to classify the cancerous moles. A machine learning algorithm for stock trading may inform the trader of future potential predictions.[20]',\n",
       " 'number': (5,),\n",
       " 'subject': 'data science',\n",
       " 'tone': 'simple',\n",
       " 'response_json': '{\"1.\": {\"mcq\": \"multiple choice question\", \"options\": {\"a\": \"choice here\", \"b\": \"choice here\", \"c\": \"choice here\", \"d\": \"choice here\"}, \"correct\": \"correct answer\"}, \"2\": {\"mcq\": \"multiple choice question\", \"options\": {\"a\": \"choice here\", \"b\": \"choice here\", \"c\": \"choice here\", \"d\": \"choice here\"}, \"correct\": \"correct answer\"}, \"3\": {\"mcq\": \"multiple choice question\", \"options\": {\"a\": \"choice here\", \"b\": \"choice here\", \"c\": \"choice here\", \"d\": \"choice here\"}, \"correct\": \"correct answer\"}, \"4\": {\"mcq\": \"multiple choice question\", \"options\": {\"a\": \"choice here\", \"b\": \"choice here\", \"c\": \"choice here\", \"d\": \"choice here\"}, \"correct\": \"correct answer\"}, \"5\": {\"mcq\": \"multiple choice question\", \"options\": {\"a\": \"choice here\", \"b\": \"choice here\", \"c\": \"choice here\", \"d\": \"choice here\"}, \"correct\": \"correct answer\"}}',\n",
       " 'quiz': '{\\n\"1.\": {\\n\"mcq\": \"Who coined the term machine learning?\",\\n\"options\": {\\n\"a\": \"Donald Hebb\",\\n\"b\": \"Raytheon Company\",\\n\"c\": \"Arthur Samuel\",\\n\"d\": \"Tom M. Mitchell\"\\n},\\n\"correct\": \"c\"\\n},\\n\"2\": {\\n\"mcq\": \"What was the earliest machine learning program about?\",\\n\"options\": {\\n\"a\": \"Calculating winning chance in checkers\",\\n\"b\": \"Analyzing sonar signals\",\\n\"c\": \"Recognizing speech patterns\",\\n\"d\": \"Studying human cognitive processes\"\\n},\\n\"correct\": \"a\"\\n},\\n\"3\": {\\n\"mcq\": \"Which researchers proposed early mathematical models of neural networks?\",\\n\"options\": {\\n\"a\": \"Walter Pitts and Warren McCulloch\",\\n\"b\": \"Raytheon Company\",\\n\"c\": \"Donald Hebb\",\\n\"d\": \"Tom M. Mitchell\"\\n},\\n\"correct\": \"a\"\\n},\\n\"4\": {\\n\"mcq\": \"Who provided a formal definition of the algorithms studied in machine learning field?\",\\n\"options\": {\\n\"a\": \"Donald Hebb\",\\n\"b\": \"Raytheon Company\",\\n\"c\": \"Tom M. Mitchell\",\\n\"d\": \"Arthur Samuel\"\\n},\\n\"correct\": \"c\"\\n},\\n\"5\": {\\n\"mcq\": \"What are the two objectives of modern-day machine learning?\",\\n\"options\": {\\n\"a\": \"Data classification and making predictions\",\\n\"b\": \"Analyzing human cognitive processes\",\\n\"c\": \"Developing computer games\",\\n\"d\": \"Studying neural structures\"\\n},\\n\"correct\": \"a\"\\n}\\n}',\n",
       " 'review': '{\\n    \"1.\": {\\n        \"mcq\": \"What term was coined in 1959 by Arthur Samuel to describe the field of computer gaming and artificial intelligence?\",\\n        \"options\": {\\n            \"a\": \"Artificial Intelligence\",\\n            \"b\": \"Machine Learning\",\\n            \"c\": \"Computer Gaming\",\\n            \"d\": \"Self-Teaching Computers\"\\n        },\\n        \"correct\": \"b\"\\n    },\\n    \"2\": {\\n        \"mcq\": \"Who proposed a theoretical neural structure in 1949 that laid the groundwork for how AIs and machine learning algorithms work?\",\\n        \"options\": {\\n            \"a\": \"Arthur Samuel\",\\n            \"b\": \"Donald Hebb\",\\n            \"c\": \"Walter Pitts\",\\n            \"d\": \"Warren McCulloch\"\\n        },\\n        \"correct\": \"b\"\\n    },\\n    \"3\": {\\n        \"mcq\": \"In which decade was an experimental \\'learning machine\\' called Cybertron developed by Raytheon Company?\",\\n        \"options\": {\\n            \"a\": \"1950s\",\\n            \"b\": \"1960s\",\\n            \"c\": \"1970s\",\\n            \"d\": \"1980s\"\\n        },\\n        \"correct\": \"b\"\\n    },\\n    \"4\": {\\n        \"mcq\": \"Who provided a formal definition of the algorithms studied in the machine learning field that focuses on tasks, experience, and performance?\",\\n        \"options\": {\\n            \"a\": \"Arthur Samuel\",\\n            \"b\": \"Tom M. Mitchell\",\\n            \"c\": \"Donald Hebb\",\\n            \"d\": \"Raytheon Company\"\\n        },\\n        \"correct\": \"b\"\\n    },\\n    \"5\": {\\n        \"mcq\": \"What are the two objectives of modern-day machine learning as mentioned in the text?\",\\n        \"options\": {\\n            \"a\": \"To play computer games and make predictions\",\\n            \"b\": \"To classify data and make predictions\",\\n            \"c\": \"To study human cognitive processes and develop algorithms\",\\n            \"d\": \"To create theoretical neural structures and analyze sonar signals\"\\n        },\\n        \"correct\": \"b\"\\n    }\\n}'}"
      ]
     },
     "execution_count": 29,
     "metadata": {},
     "output_type": "execute_result"
    }
   ],
   "source": [
    "response"
   ]
  },
  {
   "cell_type": "code",
   "execution_count": 30,
   "id": "751a9e7d",
   "metadata": {},
   "outputs": [],
   "source": [
    "quiz = response.get(\"quiz\")"
   ]
  },
  {
   "cell_type": "code",
   "execution_count": 31,
   "id": "95b942ae",
   "metadata": {},
   "outputs": [
    {
     "data": {
      "text/plain": [
       "{'1.': {'mcq': 'Who coined the term machine learning?',\n",
       "  'options': {'a': 'Donald Hebb',\n",
       "   'b': 'Raytheon Company',\n",
       "   'c': 'Arthur Samuel',\n",
       "   'd': 'Tom M. Mitchell'},\n",
       "  'correct': 'c'},\n",
       " '2': {'mcq': 'What was the earliest machine learning program about?',\n",
       "  'options': {'a': 'Calculating winning chance in checkers',\n",
       "   'b': 'Analyzing sonar signals',\n",
       "   'c': 'Recognizing speech patterns',\n",
       "   'd': 'Studying human cognitive processes'},\n",
       "  'correct': 'a'},\n",
       " '3': {'mcq': 'Which researchers proposed early mathematical models of neural networks?',\n",
       "  'options': {'a': 'Walter Pitts and Warren McCulloch',\n",
       "   'b': 'Raytheon Company',\n",
       "   'c': 'Donald Hebb',\n",
       "   'd': 'Tom M. Mitchell'},\n",
       "  'correct': 'a'},\n",
       " '4': {'mcq': 'Who provided a formal definition of the algorithms studied in machine learning field?',\n",
       "  'options': {'a': 'Donald Hebb',\n",
       "   'b': 'Raytheon Company',\n",
       "   'c': 'Tom M. Mitchell',\n",
       "   'd': 'Arthur Samuel'},\n",
       "  'correct': 'c'},\n",
       " '5': {'mcq': 'What are the two objectives of modern-day machine learning?',\n",
       "  'options': {'a': 'Data classification and making predictions',\n",
       "   'b': 'Analyzing human cognitive processes',\n",
       "   'c': 'Developing computer games',\n",
       "   'd': 'Studying neural structures'},\n",
       "  'correct': 'a'}}"
      ]
     },
     "execution_count": 31,
     "metadata": {},
     "output_type": "execute_result"
    }
   ],
   "source": [
    "json.loads(quiz)"
   ]
  },
  {
   "cell_type": "markdown",
   "id": "3a9b6ecc",
   "metadata": {},
   "source": [
    "### Creating Dataframe out of the quiz"
   ]
  },
  {
   "cell_type": "code",
   "execution_count": 32,
   "id": "c7b92f39",
   "metadata": {},
   "outputs": [],
   "source": [
    "quiz_table_data = []\n",
    "quiz = json.loads(quiz)\n",
    "\n",
    "for key, value in quiz.items():\n",
    "    mcq = value[\"mcq\"]\n",
    "    options = \" | \".join(\n",
    "        [\n",
    "            f\"{option}: {option_value}\"\n",
    "            for option, option_value in value[\"options\"].items()\n",
    "        ],\n",
    "    )\n",
    "    correct = value[\"correct\"]\n",
    "    quiz_table_data.append({\"MCQ\":mcq, \"Choices\": options, \"Correct\": correct})\n"
   ]
  },
  {
   "cell_type": "code",
   "execution_count": 33,
   "id": "1115c069",
   "metadata": {},
   "outputs": [
    {
     "data": {
      "text/plain": [
       "[{'MCQ': 'Who coined the term machine learning?',\n",
       "  'Choices': 'a: Donald Hebb | b: Raytheon Company | c: Arthur Samuel | d: Tom M. Mitchell',\n",
       "  'Correct': 'c'},\n",
       " {'MCQ': 'What was the earliest machine learning program about?',\n",
       "  'Choices': 'a: Calculating winning chance in checkers | b: Analyzing sonar signals | c: Recognizing speech patterns | d: Studying human cognitive processes',\n",
       "  'Correct': 'a'},\n",
       " {'MCQ': 'Which researchers proposed early mathematical models of neural networks?',\n",
       "  'Choices': 'a: Walter Pitts and Warren McCulloch | b: Raytheon Company | c: Donald Hebb | d: Tom M. Mitchell',\n",
       "  'Correct': 'a'},\n",
       " {'MCQ': 'Who provided a formal definition of the algorithms studied in machine learning field?',\n",
       "  'Choices': 'a: Donald Hebb | b: Raytheon Company | c: Tom M. Mitchell | d: Arthur Samuel',\n",
       "  'Correct': 'c'},\n",
       " {'MCQ': 'What are the two objectives of modern-day machine learning?',\n",
       "  'Choices': 'a: Data classification and making predictions | b: Analyzing human cognitive processes | c: Developing computer games | d: Studying neural structures',\n",
       "  'Correct': 'a'}]"
      ]
     },
     "execution_count": 33,
     "metadata": {},
     "output_type": "execute_result"
    }
   ],
   "source": [
    "quiz_table_data"
   ]
  },
  {
   "cell_type": "code",
   "execution_count": 34,
   "id": "c57bc135",
   "metadata": {},
   "outputs": [],
   "source": [
    "import pandas as pd\n",
    "quiz = pd.DataFrame(quiz_table_data)"
   ]
  },
  {
   "cell_type": "code",
   "execution_count": 35,
   "id": "8752d123",
   "metadata": {},
   "outputs": [],
   "source": [
    "quiz.to_csv(\"machinelearning.csv\", index = False)"
   ]
  },
  {
   "cell_type": "code",
   "execution_count": 36,
   "id": "44495741",
   "metadata": {},
   "outputs": [],
   "source": [
    "from datetime import datetime\n",
    "LOG_FILE = f\"{datetime.now().strftime('%m_%d_%Y_%H_%M_%S')}.log\""
   ]
  },
  {
   "cell_type": "code",
   "execution_count": 37,
   "id": "138cde75",
   "metadata": {},
   "outputs": [
    {
     "data": {
      "text/plain": [
       "'07_25_2025_13_29_29.log'"
      ]
     },
     "execution_count": 37,
     "metadata": {},
     "output_type": "execute_result"
    }
   ],
   "source": [
    "LOG_FILE"
   ]
  },
  {
   "cell_type": "code",
   "execution_count": null,
   "id": "c8efffc8",
   "metadata": {},
   "outputs": [],
   "source": []
  }
 ],
 "metadata": {
  "kernelspec": {
   "display_name": "Python 3",
   "language": "python",
   "name": "python3"
  },
  "language_info": {
   "codemirror_mode": {
    "name": "ipython",
    "version": 3
   },
   "file_extension": ".py",
   "mimetype": "text/x-python",
   "name": "python",
   "nbconvert_exporter": "python",
   "pygments_lexer": "ipython3",
   "version": "3.11.5"
  }
 },
 "nbformat": 4,
 "nbformat_minor": 5
}
